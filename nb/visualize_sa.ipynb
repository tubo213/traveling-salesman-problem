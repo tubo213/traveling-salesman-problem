{
 "cells": [
  {
   "cell_type": "code",
   "execution_count": 1,
   "metadata": {},
   "outputs": [
    {
     "name": "stderr",
     "output_type": "stream",
     "text": [
      "/usr/local/lib/python3.8/dist-packages/tqdm/auto.py:21: TqdmWarning: IProgress not found. Please update jupyter and ipywidgets. See https://ipywidgets.readthedocs.io/en/stable/user_install.html\n",
      "  from .autonotebook import tqdm as notebook_tqdm\n"
     ]
    }
   ],
   "source": [
    "import sys\n",
    "sys.path.append('../')\n",
    "\n",
    "from src.policy import TwoOptPolicy, RandomPolicy, GreedyPolicy\n",
    "import numpy as np\n",
    "import japanize_matplotlib\n",
    "import matplotlib.pyplot as plt\n",
    "from pathlib import Path\n",
    "from tqdm.autonotebook import tqdm\n",
    "from PIL import Image\n",
    "\n",
    "plt.style.use('ggplot')"
   ]
  },
  {
   "cell_type": "code",
   "execution_count": 2,
   "metadata": {},
   "outputs": [],
   "source": [
    "def visulize_logs(x, logs, path_to_dir: Path, log_step=10):\n",
    "    for step, (tour_i, score) in enumerate(tqdm(logs)):\n",
    "        if step % log_step == 0:\n",
    "            fig, ax = plt.subplots(figsize=(5, 5))\n",
    "            x_cood = x[tour_i, 0]\n",
    "            y_cood = x[tour_i, 1]\n",
    "            x_cood = np.append(x_cood, x_cood[0])\n",
    "            y_cood = np.append(y_cood, y_cood[0])\n",
    "\n",
    "            ax.plot(x_cood, y_cood, marker=\".\", markersize=7, label='city')\n",
    "            ax.set_title(f\"step: {step+1} 総距離: {score:.2f}\", fontsize=15)\n",
    "            ax.legend()\n",
    "            ax.set_xticks([])\n",
    "            ax.set_yticks([])\n",
    "\n",
    "            fig.savefig(\n",
    "                path_to_dir / f\"{step+1}.png\",\n",
    "            )\n",
    "            plt.close()\n",
    "\n",
    "def make_gif(paths, save_path, max_step=np.inf):\n",
    "    imgs = []\n",
    "    for i, path in enumerate(tqdm(paths)):\n",
    "        imgs.append(\n",
    "            Image.open(path)\n",
    "        )\n",
    "        if i > max_step:\n",
    "            break\n",
    "\n",
    "    imgs[0].save(\n",
    "        save_path,\n",
    "        save_all=True,\n",
    "        append_images=imgs[1:],\n",
    "        duration=30,\n",
    "        loop=0,\n",
    "    )"
   ]
  },
  {
   "cell_type": "code",
   "execution_count": 3,
   "metadata": {},
   "outputs": [],
   "source": [
    "policy = TwoOptPolicy(\n",
    "    start_tmp=0.045,\n",
    "    end_tmp=0.00045,\n",
    "    timelimit=1.0,\n",
    "    init_policy=RandomPolicy(),\n",
    ")\n",
    "\n",
    "x = np.random.rand(150, 2)\n",
    "init_tour = policy.init_policy.solve(x[None, :])[0]\n",
    "best_tour, logs = policy.solve_sample(x, init_tour, return_log=True)\n",
    "path_to_dir = Path(\"/workspaces/results/sa_log\")\n",
    "path_to_dir.mkdir(exist_ok=True, parents=True)"
   ]
  },
  {
   "cell_type": "code",
   "execution_count": 4,
   "metadata": {},
   "outputs": [
    {
     "name": "stderr",
     "output_type": "stream",
     "text": [
      "100%|██████████| 22495/22495 [00:29<00:00, 762.63it/s]\n"
     ]
    }
   ],
   "source": [
    "visulize_logs(x, logs, path_to_dir, log_step=20)"
   ]
  },
  {
   "cell_type": "code",
   "execution_count": 6,
   "metadata": {},
   "outputs": [
    {
     "name": "stderr",
     "output_type": "stream",
     "text": [
      "100%|██████████| 1212/1212 [00:00<00:00, 7013.68it/s]\n"
     ]
    }
   ],
   "source": [
    "paths = sorted(list(path_to_dir.glob(\"*.png\")), key=lambda x: int(x.stem))\n",
    "save_path = str(\"/workspaces/sample.gif\")\n",
    "make_gif(paths, save_path)"
   ]
  }
 ],
 "metadata": {
  "kernelspec": {
   "display_name": "Python 3",
   "language": "python",
   "name": "python3"
  },
  "language_info": {
   "codemirror_mode": {
    "name": "ipython",
    "version": 3
   },
   "file_extension": ".py",
   "mimetype": "text/x-python",
   "name": "python",
   "nbconvert_exporter": "python",
   "pygments_lexer": "ipython3",
   "version": "3.8.10"
  },
  "orig_nbformat": 4
 },
 "nbformat": 4,
 "nbformat_minor": 2
}
